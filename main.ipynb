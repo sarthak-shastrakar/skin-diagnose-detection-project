{
 "cells": [
  {
   "cell_type": "code",
   "execution_count": 2,
   "id": "5bfc548e-a174-4b1e-bbb0-b25e228918ae",
   "metadata": {},
   "outputs": [],
   "source": [
    "import tensorflow as tf\n",
    "import matplotlib.pyplot as plt\n",
    "import pandas as pd\n",
    "import seaborn as sns\n",
    "from tensorflow.keras.layers import Dense,Conv2D,MaxPool2D,Flatten,Dropout\n",
    "from tensorflow.keras.models import Sequential"
   ]
  },
  {
   "cell_type": "code",
   "execution_count": 3,
   "id": "43d7d656",
   "metadata": {},
   "outputs": [
    {
     "name": "stdout",
     "output_type": "stream",
     "text": [
      "Found 697 files belonging to 9 classes.\n"
     ]
    }
   ],
   "source": [
    "training_set = tf.keras.utils.image_dataset_from_directory(\n",
    "    'train',\n",
    "    labels=\"inferred\",\n",
    "    label_mode=\"categorical\",\n",
    "    class_names=None,\n",
    "    color_mode=\"rgb\",\n",
    "    batch_size=32,\n",
    "    image_size=(256, 256),\n",
    "    shuffle=True,\n",
    "    seed=None,\n",
    "    validation_split=None,\n",
    "    subset=None,\n",
    "    interpolation=\"bilinear\",\n",
    "    follow_links=False,\n",
    "    crop_to_aspect_ratio=False\n",
    ")"
   ]
  },
  {
   "cell_type": "code",
   "execution_count": 4,
   "id": "1fa398f8-36ba-4ad3-989d-c3b565f65df0",
   "metadata": {},
   "outputs": [
    {
     "name": "stdout",
     "output_type": "stream",
     "text": [
      "Found 181 files belonging to 9 classes.\n"
     ]
    }
   ],
   "source": [
    "validation_set = tf.keras.utils.image_dataset_from_directory(\n",
    "    'val',\n",
    "    labels=\"inferred\",\n",
    "    label_mode=\"categorical\",\n",
    "    class_names=None,\n",
    "    color_mode=\"rgb\",\n",
    "    batch_size=32,\n",
    "    image_size=(256, 256),\n",
    "    shuffle=True,\n",
    "    seed=None,\n",
    "    validation_split=None,\n",
    "    subset=None,\n",
    "    interpolation=\"bilinear\",\n",
    "    follow_links=False,\n",
    "    crop_to_aspect_ratio=False\n",
    ")"
   ]
  },
  {
   "cell_type": "code",
   "execution_count": 5,
   "id": "f7e5ed28",
   "metadata": {},
   "outputs": [
    {
     "data": {
      "text/plain": [
       "<BatchDataset element_spec=(TensorSpec(shape=(None, 256, 256, 3), dtype=tf.float32, name=None), TensorSpec(shape=(None, 9), dtype=tf.float32, name=None))>"
      ]
     },
     "execution_count": 5,
     "metadata": {},
     "output_type": "execute_result"
    }
   ],
   "source": [
    "training_set"
   ]
  },
  {
   "cell_type": "code",
   "execution_count": 7,
   "id": "ee8a2035",
   "metadata": {},
   "outputs": [
    {
     "name": "stdout",
     "output_type": "stream",
     "text": [
      "tf.Tensor(\n",
      "[[[[ 97.515625  76.365845  72.44208 ]\n",
      "   [104.03125   85.80847   78.42578 ]\n",
      "   [107.806335  91.21484   82.2829  ]\n",
      "   ...\n",
      "   [198.51453  178.32031  177.0971  ]\n",
      "   [204.97467  174.00592  178.97845 ]\n",
      "   [195.66217  176.32812  177.6211  ]]\n",
      "\n",
      "  [[100.1604    79.060486  75.90045 ]\n",
      "   [106.12964   89.15662   82.18359 ]\n",
      "   [110.01068   93.9046    87.00287 ]\n",
      "   ...\n",
      "   [200.32544  177.20435  176.87378 ]\n",
      "   [200.565    175.43713  178.14594 ]\n",
      "   [197.04486  177.13885  177.21509 ]]\n",
      "\n",
      "  [[102.72876   82.93585   77.34375 ]\n",
      "   [108.79401   90.06085   85.73047 ]\n",
      "   [114.22931   96.93707   93.017944]\n",
      "   ...\n",
      "   [204.08636  174.28674  176.96802 ]\n",
      "   [197.10712  177.95807  179.86328 ]\n",
      "   [198.82367  178.89618  179.85992 ]]\n",
      "\n",
      "  ...\n",
      "\n",
      "  [[105.60266   75.52008   68.08423 ]\n",
      "   [103.224915  74.984375  64.140015]\n",
      "   [105.43201   71.85388   70.25116 ]\n",
      "   ...\n",
      "   [203.60272  168.6726   178.03473 ]\n",
      "   [200.0625   166.18195  179.82031 ]\n",
      "   [197.32812  165.       175.41296 ]]\n",
      "\n",
      "  [[103.85559   74.99231   67.74219 ]\n",
      "   [109.28943   75.87463   72.7511  ]\n",
      "   [105.2796    74.72656   71.786194]\n",
      "   ...\n",
      "   [203.3487   169.45477  176.14453 ]\n",
      "   [200.92578  167.88531  178.86755 ]\n",
      "   [197.04486  164.41998  174.25995 ]]\n",
      "\n",
      "  [[103.704346  74.71997   71.048096]\n",
      "   [109.00592   75.00592   73.00592 ]\n",
      "   [111.        77.        75.      ]\n",
      "   ...\n",
      "   [201.30078  166.3789   178.01953 ]\n",
      "   [201.42578  168.3789   179.39453 ]\n",
      "   [197.24219  164.91406  175.91406 ]]]\n",
      "\n",
      "\n",
      " [[[179.04431  141.03839  166.67188 ]\n",
      "   [178.79877  143.79877  165.76752 ]\n",
      "   [180.20422  145.96204  165.58313 ]\n",
      "   ...\n",
      "   [148.60211  103.359375 133.42749 ]\n",
      "   [150.22278  104.59955  134.38269 ]\n",
      "   [147.63348  102.54431  130.88806 ]]\n",
      "\n",
      "  [[178.44153  142.18158  165.7616  ]\n",
      "   [179.29828  146.03339  167.16156 ]\n",
      "   [181.91241  149.62048  169.59149 ]\n",
      "   ...\n",
      "   [148.32092  102.328735 132.84479 ]\n",
      "   [147.13458  103.97302  134.36328 ]\n",
      "   [147.12537  103.55884  132.68207 ]]\n",
      "\n",
      "  [[180.4336   144.83765  163.64453 ]\n",
      "   [180.10382  146.92743  166.22327 ]\n",
      "   [182.2539   149.64294  170.56714 ]\n",
      "   ...\n",
      "   [150.37036   99.96802  135.10822 ]\n",
      "   [149.77344  104.8526   137.86163 ]\n",
      "   [147.69415  104.09314  135.89618 ]]\n",
      "\n",
      "  ...\n",
      "\n",
      "  [[189.85828  158.82367  173.82367 ]\n",
      "   [188.11945  156.89453  172.10547 ]\n",
      "   [188.67853  156.53241  173.18127 ]\n",
      "   ...\n",
      "   [191.25159  157.38672  181.89221 ]\n",
      "   [191.76276  158.77838  179.80963 ]\n",
      "   [189.70648  157.95203  181.88281 ]]\n",
      "\n",
      "  [[187.80646  156.7616   172.62488 ]\n",
      "   [188.98651  155.98651  174.71307 ]\n",
      "   [188.37952  157.37952  174.58386 ]\n",
      "   ...\n",
      "   [190.68976  158.59149  181.02014 ]\n",
      "   [190.86542  158.73083  181.4347  ]\n",
      "   [188.85345  159.46484  183.09186 ]]\n",
      "\n",
      "  [[189.2038   156.2038   175.2038  ]\n",
      "   [189.39453  156.39453  175.39453 ]\n",
      "   [189.07758  157.51508  176.1557  ]\n",
      "   ...\n",
      "   [189.94196  160.2232   178.2232  ]\n",
      "   [190.01562  158.01562  181.96875 ]\n",
      "   [188.       158.65625  182.      ]]]\n",
      "\n",
      "\n",
      " [[[252.427    244.646    243.64923 ]\n",
      "   [250.88861  248.33844  247.27759 ]\n",
      "   [252.52344  247.4068   245.2622  ]\n",
      "   ...\n",
      "   [238.67023  230.74725  217.23224 ]\n",
      "   [240.24054  221.31653  216.00922 ]\n",
      "   [243.61316  231.75043  224.83313 ]]\n",
      "\n",
      "  [[253.23627  247.09149  246.03503 ]\n",
      "   [251.5426   247.4638   246.21307 ]\n",
      "   [252.27942  250.22266  246.69409 ]\n",
      "   ...\n",
      "   [245.16302  226.9414   220.98456 ]\n",
      "   [248.21918  228.15173  218.91382 ]\n",
      "   [241.7641   227.14844  212.8009  ]]\n",
      "\n",
      "  [[251.4682   247.50726  238.01068 ]\n",
      "   [251.43256  246.56763  242.65582 ]\n",
      "   [251.09955  244.13196  238.56165 ]\n",
      "   ...\n",
      "   [248.32928  233.62573  226.09143 ]\n",
      "   [249.3894   225.81128  222.86865 ]\n",
      "   [243.948    232.55176  227.81958 ]]\n",
      "\n",
      "  ...\n",
      "\n",
      "  [[254.       246.10883  245.51672 ]\n",
      "   [252.22491  245.67535  249.92328 ]\n",
      "   [252.9242   248.44153  249.8274  ]\n",
      "   ...\n",
      "   [249.56567  235.86847  231.72467 ]\n",
      "   [250.24054  235.25122  237.55096 ]\n",
      "   [250.93256  234.56036  231.80591 ]]\n",
      "\n",
      "  [[252.5567   245.59729  252.05042 ]\n",
      "   [252.3139   242.1665   242.23853 ]\n",
      "   [252.3487   247.52509  245.77734 ]\n",
      "   ...\n",
      "   [254.05695  235.94324  230.53558 ]\n",
      "   [248.60297  230.19952  231.37958 ]\n",
      "   [252.80243  238.00983  237.6482  ]]\n",
      "\n",
      "  [[253.       249.21362  252.79028 ]\n",
      "   [253.98816  247.88483  244.90851 ]\n",
      "   [252.64062  246.89172  247.60095 ]\n",
      "   ...\n",
      "   [245.50616  230.26288  223.00952 ]\n",
      "   [250.70715  235.9768   229.51135 ]\n",
      "   [251.61786  232.1098   233.76929 ]]]\n",
      "\n",
      "\n",
      " ...\n",
      "\n",
      "\n",
      " [[[214.       165.       122.      ]\n",
      "   [214.       165.       122.      ]\n",
      "   [214.3711   165.3711   122.37109 ]\n",
      "   ...\n",
      "   [215.3711   194.3711   173.3711  ]\n",
      "   [214.22266  193.22266  172.22266 ]\n",
      "   [213.07422  191.14844  170.14844 ]]\n",
      "\n",
      "  [[214.       165.       122.      ]\n",
      "   [214.       165.       122.      ]\n",
      "   [214.3711   165.3711   122.37109 ]\n",
      "   ...\n",
      "   [214.57031  193.57031  172.57031 ]\n",
      "   [213.42188  191.7994   170.7994  ]\n",
      "   [212.27344  190.28822  169.28822 ]]\n",
      "\n",
      "  [[215.33594  165.       122.      ]\n",
      "   [215.18721  165.14873  122.14873 ]\n",
      "   [214.79118  165.79118  122.79118 ]\n",
      "   ...\n",
      "   [213.70312  192.70312  171.70312 ]\n",
      "   [212.55469  190.77734  169.77734 ]\n",
      "   [211.40625  189.40625  168.40625 ]]\n",
      "\n",
      "  ...\n",
      "\n",
      "  [[134.66797  116.66797  104.66797 ]\n",
      "   [134.7419   116.7419   104.7419  ]\n",
      "   [135.24788  117.24788  105.24788 ]\n",
      "   ...\n",
      "   [132.74855  112.826675  88.28337 ]\n",
      "   [130.19502  107.97627   83.31134 ]\n",
      "   [128.75     103.92699   77.71875 ]]\n",
      "\n",
      "  [[133.81557  115.81557  103.81557 ]\n",
      "   [134.22266  116.22266  104.22266 ]\n",
      "   [135.       117.       105.      ]\n",
      "   ...\n",
      "   [128.56221  106.90596   82.358215]\n",
      "   [124.51701  100.56389   75.07535 ]\n",
      "   [123.06334   95.703125  68.97656 ]]\n",
      "\n",
      "  [[133.07422  115.07422  103.07422 ]\n",
      "   [134.22266  116.22266  104.22266 ]\n",
      "   [135.       117.       105.      ]\n",
      "   ...\n",
      "   [124.85547  101.59766   76.33984 ]\n",
      "   [119.890625  94.33594   69.11328 ]\n",
      "   [119.        89.296875  63.371094]]]\n",
      "\n",
      "\n",
      " [[[225.27734  164.26105  189.09186 ]\n",
      "   [224.62866  165.40424  190.02911 ]\n",
      "   [227.00891  169.41742  193.28125 ]\n",
      "   ...\n",
      "   [228.21375  171.32977  194.81586 ]\n",
      "   [223.43762  169.40424  192.7713  ]\n",
      "   [224.58539  171.53784  190.42914 ]]\n",
      "\n",
      "  [[224.27344  165.99017  191.03351 ]\n",
      "   [222.71765  167.29828  190.5987  ]\n",
      "   [227.05695  167.60382  195.19366 ]\n",
      "   ...\n",
      "   [225.87396  170.65894  194.55139 ]\n",
      "   [229.35657  172.56287  192.43286 ]\n",
      "   [224.22858  172.01349  192.46912 ]]\n",
      "\n",
      "  [[222.7154   167.39899  189.8482  ]\n",
      "   [224.29749  170.74548  191.31476 ]\n",
      "   [223.66986  168.81598  192.66986 ]\n",
      "   ...\n",
      "   [229.15942  170.35114  195.54846 ]\n",
      "   [227.77344  169.98602  194.98273 ]\n",
      "   [225.95142  170.21094  193.33142 ]]\n",
      "\n",
      "  ...\n",
      "\n",
      "  [[212.10547  160.6925   172.51843 ]\n",
      "   [210.01398  158.03864  169.99835 ]\n",
      "   [214.2539   164.4809   172.21326 ]\n",
      "   ...\n",
      "   [209.3598   158.068    168.70819 ]\n",
      "   [207.57239  154.4809   170.43402 ]\n",
      "   [205.20038  152.63562  167.39069 ]]\n",
      "\n",
      "  [[212.41998  158.69342  172.27344 ]\n",
      "   [210.89026  157.11896  172.56073 ]\n",
      "   [214.46545  158.9046   173.04913 ]\n",
      "   ...\n",
      "   [207.22247  153.84644  167.37933 ]\n",
      "   [205.77771  151.73724  167.71735 ]\n",
      "   [203.43134  151.74811  168.50604 ]]\n",
      "\n",
      "  [[210.1308   156.00647  171.0357  ]\n",
      "   [211.33582  157.36707  172.09741 ]\n",
      "   [209.95087  156.66962  170.31024 ]\n",
      "   ...\n",
      "   [205.5921   152.75726  165.93195 ]\n",
      "   [208.35144  154.38269  168.36115 ]\n",
      "   [204.78973  153.54755  166.16864 ]]]\n",
      "\n",
      "\n",
      " [[[236.8222   151.06439  156.79944 ]\n",
      "   [230.80206  143.61682  147.79236 ]\n",
      "   [233.10657  147.27289  152.71875 ]\n",
      "   ...\n",
      "   [226.3985   143.10712  143.4096  ]\n",
      "   [224.55707  140.69379  146.05328 ]\n",
      "   [223.66864  143.41406  144.06384 ]]\n",
      "\n",
      "  [[229.85748  141.73425  148.12689 ]\n",
      "   [231.271    137.10938  140.79053 ]\n",
      "   [235.1612   150.40686  154.02734 ]\n",
      "   ...\n",
      "   [226.9862   146.26251  150.16711 ]\n",
      "   [231.27594  146.20026  148.93323 ]\n",
      "   [225.86115  145.09741  142.72266 ]]\n",
      "\n",
      "  [[231.7785   141.59045  144.54022 ]\n",
      "   [233.29626  142.40668  148.91388 ]\n",
      "   [231.38904  145.11096  153.47815 ]\n",
      "   ...\n",
      "   [228.82379  140.73016  144.59229 ]\n",
      "   [226.94409  140.93915  143.7052  ]\n",
      "   [223.48883  141.55804  145.89954 ]]\n",
      "\n",
      "  ...\n",
      "\n",
      "  [[209.74109  131.80188  130.23096 ]\n",
      "   [219.75287  143.93091  130.5191  ]\n",
      "   [213.47034  136.49133  128.61603 ]\n",
      "   ...\n",
      "   [211.       135.00739  128.9242  ]\n",
      "   [208.24194  131.76416  131.85895 ]\n",
      "   [213.14288  131.63397  133.86835 ]]\n",
      "\n",
      "  [[216.3711   142.00024  134.25806 ]\n",
      "   [215.33203  140.48932  134.93536 ]\n",
      "   [211.29974  133.94202  126.08777 ]\n",
      "   ...\n",
      "   [213.0368   130.2533   130.32526 ]\n",
      "   [210.72229  132.40839  129.13672 ]\n",
      "   [210.66608  135.91217  132.28882 ]]\n",
      "\n",
      "  [[218.53503  143.92377  138.26428 ]\n",
      "   [213.36542  135.02948  129.68182 ]\n",
      "   [211.05853  123.253296 121.367615]\n",
      "   ...\n",
      "   [209.37665  137.19305  134.14282 ]\n",
      "   [210.30682  135.94946  128.48236 ]\n",
      "   [213.49353  137.55145  130.99945 ]]]], shape=(32, 256, 256, 3), dtype=float32) (32, 256, 256, 3)\n",
      "tf.Tensor(\n",
      "[[1. 0. 0. 0. 0. 0. 0. 0. 0.]\n",
      " [0. 0. 0. 0. 0. 0. 1. 0. 0.]\n",
      " [0. 0. 0. 0. 0. 0. 0. 0. 1.]\n",
      " [0. 0. 0. 0. 0. 0. 0. 0. 1.]\n",
      " [0. 0. 1. 0. 0. 0. 0. 0. 0.]\n",
      " [0. 0. 0. 0. 1. 0. 0. 0. 0.]\n",
      " [0. 0. 0. 0. 0. 0. 1. 0. 0.]\n",
      " [0. 0. 0. 0. 0. 1. 0. 0. 0.]\n",
      " [0. 0. 1. 0. 0. 0. 0. 0. 0.]\n",
      " [0. 0. 0. 0. 0. 1. 0. 0. 0.]\n",
      " [0. 0. 0. 1. 0. 0. 0. 0. 0.]\n",
      " [0. 0. 0. 0. 0. 0. 1. 0. 0.]\n",
      " [0. 0. 0. 0. 0. 1. 0. 0. 0.]\n",
      " [0. 0. 0. 0. 0. 0. 0. 0. 1.]\n",
      " [0. 1. 0. 0. 0. 0. 0. 0. 0.]\n",
      " [0. 0. 0. 0. 0. 0. 0. 0. 1.]\n",
      " [0. 0. 0. 0. 1. 0. 0. 0. 0.]\n",
      " [0. 1. 0. 0. 0. 0. 0. 0. 0.]\n",
      " [0. 0. 0. 0. 0. 1. 0. 0. 0.]\n",
      " [1. 0. 0. 0. 0. 0. 0. 0. 0.]\n",
      " [1. 0. 0. 0. 0. 0. 0. 0. 0.]\n",
      " [0. 0. 0. 0. 0. 0. 0. 0. 1.]\n",
      " [0. 0. 0. 1. 0. 0. 0. 0. 0.]\n",
      " [0. 0. 0. 0. 1. 0. 0. 0. 0.]\n",
      " [0. 1. 0. 0. 0. 0. 0. 0. 0.]\n",
      " [0. 0. 0. 0. 0. 0. 0. 0. 1.]\n",
      " [0. 0. 1. 0. 0. 0. 0. 0. 0.]\n",
      " [0. 0. 0. 0. 0. 0. 0. 0. 1.]\n",
      " [0. 0. 0. 1. 0. 0. 0. 0. 0.]\n",
      " [0. 1. 0. 0. 0. 0. 0. 0. 0.]\n",
      " [0. 0. 0. 0. 0. 0. 0. 0. 1.]\n",
      " [0. 0. 0. 1. 0. 0. 0. 0. 0.]], shape=(32, 9), dtype=float32) (32, 9)\n"
     ]
    }
   ],
   "source": [
    "for x,y in training_set:\n",
    "    print(x, x.shape)\n",
    "    print(y, y.shape)\n",
    "    break"
   ]
  },
  {
   "cell_type": "code",
   "execution_count": 8,
   "id": "7b61fbfd",
   "metadata": {},
   "outputs": [],
   "source": [
    "from tensorflow.keras.layers import Dense,Conv2D,MaxPool2D,Flatten,Dropout\n",
    "from tensorflow.keras.models import Sequential"
   ]
  },
  {
   "cell_type": "code",
   "execution_count": 10,
   "id": "7cb20434",
   "metadata": {},
   "outputs": [],
   "source": [
    "model=Sequential()"
   ]
  },
  {
   "cell_type": "code",
   "execution_count": 11,
   "id": "aa0ffd38",
   "metadata": {},
   "outputs": [],
   "source": [
    "model.add(Conv2D(filters=32, kernel_size=3,padding='same',activation='relu', input_shape=[256,256,3]))\n",
    "model.add(Conv2D(filters=32, kernel_size=3,activation='relu'))\n",
    "model.add(MaxPool2D(pool_size=2,strides=2))"
   ]
  },
  {
   "cell_type": "code",
   "execution_count": 12,
   "id": "e0ca8ce5",
   "metadata": {},
   "outputs": [],
   "source": [
    "model.add(Conv2D(filters=64, kernel_size=3,padding='same',activation='relu'))\n",
    "model.add(Conv2D(filters=64, kernel_size=3,activation='relu'))\n",
    "model.add(MaxPool2D(pool_size=2,strides=2))"
   ]
  },
  {
   "cell_type": "code",
   "execution_count": 13,
   "id": "fa8f1268",
   "metadata": {},
   "outputs": [],
   "source": [
    "model.add(Conv2D(filters=128, kernel_size=3,padding='same',activation='relu'))\n",
    "model.add(Conv2D(filters=128, kernel_size=3,activation='relu'))\n",
    "model.add(MaxPool2D(pool_size=2,strides=2))"
   ]
  },
  {
   "cell_type": "code",
   "execution_count": null,
   "id": "f1098d5f",
   "metadata": {},
   "outputs": [],
   "source": [
    "# model.add(Dropout(0.4))"
   ]
  },
  {
   "cell_type": "code",
   "execution_count": 14,
   "id": "3afa1f71",
   "metadata": {},
   "outputs": [],
   "source": [
    "model.add(Flatten())"
   ]
  },
  {
   "cell_type": "code",
   "execution_count": 15,
   "id": "c61302f2",
   "metadata": {},
   "outputs": [],
   "source": [
    "model.add(Dense(units=512,activation='relu'))"
   ]
  },
  {
   "cell_type": "code",
   "execution_count": 16,
   "id": "2166af69",
   "metadata": {},
   "outputs": [],
   "source": [
    "model.add(Dropout(0.5))"
   ]
  },
  {
   "cell_type": "code",
   "execution_count": 17,
   "id": "71200784",
   "metadata": {},
   "outputs": [],
   "source": [
    "model.add(Dense(units=9,activation='softmax'))"
   ]
  },
  {
   "cell_type": "code",
   "execution_count": 18,
   "id": "8094f1ff",
   "metadata": {},
   "outputs": [],
   "source": [
    "model.compile(optimizer=tf.keras.optimizers.Adam(\n",
    "    learning_rate=0.0001), loss='categorical_crossentropy',metrics=['accuracy'])"
   ]
  },
  {
   "cell_type": "code",
   "execution_count": 19,
   "id": "e2c106ce",
   "metadata": {},
   "outputs": [
    {
     "name": "stdout",
     "output_type": "stream",
     "text": [
      "Model: \"sequential_1\"\n",
      "_________________________________________________________________\n",
      " Layer (type)                Output Shape              Param #   \n",
      "=================================================================\n",
      " conv2d (Conv2D)             (None, 256, 256, 32)      896       \n",
      "                                                                 \n",
      " conv2d_1 (Conv2D)           (None, 254, 254, 32)      9248      \n",
      "                                                                 \n",
      " max_pooling2d (MaxPooling2D  (None, 127, 127, 32)     0         \n",
      " )                                                               \n",
      "                                                                 \n",
      " conv2d_2 (Conv2D)           (None, 127, 127, 64)      18496     \n",
      "                                                                 \n",
      " conv2d_3 (Conv2D)           (None, 125, 125, 64)      36928     \n",
      "                                                                 \n",
      " max_pooling2d_1 (MaxPooling  (None, 62, 62, 64)       0         \n",
      " 2D)                                                             \n",
      "                                                                 \n",
      " conv2d_4 (Conv2D)           (None, 62, 62, 128)       73856     \n",
      "                                                                 \n",
      " conv2d_5 (Conv2D)           (None, 60, 60, 128)       147584    \n",
      "                                                                 \n",
      " max_pooling2d_2 (MaxPooling  (None, 30, 30, 128)      0         \n",
      " 2D)                                                             \n",
      "                                                                 \n",
      " flatten (Flatten)           (None, 115200)            0         \n",
      "                                                                 \n",
      " dense (Dense)               (None, 512)               58982912  \n",
      "                                                                 \n",
      " dropout (Dropout)           (None, 512)               0         \n",
      "                                                                 \n",
      " dense_1 (Dense)             (None, 9)                 4617      \n",
      "                                                                 \n",
      "=================================================================\n",
      "Total params: 59,274,537\n",
      "Trainable params: 59,274,537\n",
      "Non-trainable params: 0\n",
      "_________________________________________________________________\n"
     ]
    }
   ],
   "source": [
    "model.summary()"
   ]
  },
  {
   "cell_type": "code",
   "execution_count": 20,
   "id": "51109b4e",
   "metadata": {},
   "outputs": [
    {
     "name": "stdout",
     "output_type": "stream",
     "text": [
      "Epoch 1/10\n",
      "22/22 [==============================] - 363s 16s/step - loss: 13.2413 - accuracy: 0.1306 - val_loss: 1.9679 - val_accuracy: 0.2486\n",
      "Epoch 2/10\n",
      "22/22 [==============================] - 307s 14s/step - loss: 1.8084 - accuracy: 0.3228 - val_loss: 1.5328 - val_accuracy: 0.4641\n",
      "Epoch 3/10\n",
      "22/22 [==============================] - 748s 35s/step - loss: 1.4124 - accuracy: 0.4978 - val_loss: 1.3027 - val_accuracy: 0.5249\n",
      "Epoch 4/10\n",
      "22/22 [==============================] - 1214s 57s/step - loss: 1.1981 - accuracy: 0.5552 - val_loss: 1.1740 - val_accuracy: 0.5359\n",
      "Epoch 5/10\n",
      "22/22 [==============================] - 514s 23s/step - loss: 1.0074 - accuracy: 0.6413 - val_loss: 1.0599 - val_accuracy: 0.5967\n",
      "Epoch 6/10\n",
      "22/22 [==============================] - 474s 21s/step - loss: 0.8859 - accuracy: 0.7088 - val_loss: 1.0174 - val_accuracy: 0.6133\n",
      "Epoch 7/10\n",
      "22/22 [==============================] - 471s 21s/step - loss: 0.7611 - accuracy: 0.7303 - val_loss: 1.0552 - val_accuracy: 0.6188\n",
      "Epoch 8/10\n",
      "22/22 [==============================] - 563s 26s/step - loss: 0.6750 - accuracy: 0.7489 - val_loss: 1.0125 - val_accuracy: 0.6133\n",
      "Epoch 9/10\n",
      "22/22 [==============================] - 644s 28s/step - loss: 0.6178 - accuracy: 0.8034 - val_loss: 1.0064 - val_accuracy: 0.6685\n",
      "Epoch 10/10\n",
      "22/22 [==============================] - 516s 24s/step - loss: 0.5057 - accuracy: 0.8250 - val_loss: 1.0069 - val_accuracy: 0.6630\n"
     ]
    }
   ],
   "source": [
    "training_history = model.fit(x=training_set,validation_data=validation_set,epochs=10)"
   ]
  },
  {
   "cell_type": "code",
   "execution_count": 21,
   "id": "67c517cf",
   "metadata": {},
   "outputs": [
    {
     "name": "stdout",
     "output_type": "stream",
     "text": [
      "22/22 [==============================] - 127s 6s/step - loss: 0.3260 - accuracy: 0.9225\n"
     ]
    }
   ],
   "source": [
    "train_loss,train_acc = model.evaluate(training_set)"
   ]
  },
  {
   "cell_type": "code",
   "execution_count": 22,
   "id": "483c7685",
   "metadata": {},
   "outputs": [
    {
     "name": "stdout",
     "output_type": "stream",
     "text": [
      "0.32597580552101135 0.9225251078605652\n"
     ]
    }
   ],
   "source": [
    "print(train_loss, train_acc)"
   ]
  },
  {
   "cell_type": "code",
   "execution_count": 24,
   "id": "72347fe0",
   "metadata": {},
   "outputs": [
    {
     "name": "stdout",
     "output_type": "stream",
     "text": [
      "6/6 [==============================] - 22s 4s/step - loss: 1.0069 - accuracy: 0.6630\n"
     ]
    }
   ],
   "source": [
    "validate_loss,train_acc = model.evaluate(validation_set)"
   ]
  },
  {
   "cell_type": "code",
   "execution_count": 25,
   "id": "489246a4",
   "metadata": {},
   "outputs": [
    {
     "name": "stdout",
     "output_type": "stream",
     "text": [
      "1.0069408416748047 0.6629834175109863\n"
     ]
    }
   ],
   "source": [
    "print(validate_loss,train_acc)"
   ]
  },
  {
   "cell_type": "code",
   "execution_count": 27,
   "id": "126a533a",
   "metadata": {},
   "outputs": [],
   "source": [
    "model.save(\"trained_model.h5\")"
   ]
  },
  {
   "cell_type": "code",
   "execution_count": 28,
   "id": "ccad3792",
   "metadata": {},
   "outputs": [
    {
     "data": {
      "text/plain": [
       "{'loss': [13.241264343261719,\n",
       "  1.8083844184875488,\n",
       "  1.4123917818069458,\n",
       "  1.1981481313705444,\n",
       "  1.0074448585510254,\n",
       "  0.8858820199966431,\n",
       "  0.7610790729522705,\n",
       "  0.6750091314315796,\n",
       "  0.6177511215209961,\n",
       "  0.5057007670402527],\n",
       " 'accuracy': [0.1305595338344574,\n",
       "  0.3228120505809784,\n",
       "  0.49784791469573975,\n",
       "  0.5552367568016052,\n",
       "  0.6413199305534363,\n",
       "  0.7087517976760864,\n",
       "  0.7302725911140442,\n",
       "  0.7489239573478699,\n",
       "  0.8034433126449585,\n",
       "  0.8249641060829163],\n",
       " 'val_loss': [1.967922329902649,\n",
       "  1.5328410863876343,\n",
       "  1.3026562929153442,\n",
       "  1.1739997863769531,\n",
       "  1.0598666667938232,\n",
       "  1.0173577070236206,\n",
       "  1.0552098751068115,\n",
       "  1.0125378370285034,\n",
       "  1.0064328908920288,\n",
       "  1.0069408416748047],\n",
       " 'val_accuracy': [0.24861878156661987,\n",
       "  0.46408841013908386,\n",
       "  0.5248618721961975,\n",
       "  0.5359116196632385,\n",
       "  0.5966851115226746,\n",
       "  0.6132596731185913,\n",
       "  0.6187845468521118,\n",
       "  0.6132596731185913,\n",
       "  0.6685082912445068,\n",
       "  0.6629834175109863]}"
      ]
     },
     "execution_count": 28,
     "metadata": {},
     "output_type": "execute_result"
    }
   ],
   "source": [
    "training_history.history"
   ]
  },
  {
   "cell_type": "code",
   "execution_count": 29,
   "id": "6806af22",
   "metadata": {},
   "outputs": [],
   "source": [
    "import json\n",
    "with open(\"training_hist.json\",\"w\") as f:\n",
    "    json.dump(training_history.history,f)"
   ]
  },
  {
   "cell_type": "code",
   "execution_count": null,
   "id": "252a3363",
   "metadata": {},
   "outputs": [],
   "source": [
    "# epochs = [i for i in range(1,11)]\n",
    "# plt.plot(epochs,training_history.history['accuracy'],color='red', label='Training Accuracy')\n",
    "# plt.show()"
   ]
  },
  {
   "cell_type": "code",
   "execution_count": 30,
   "id": "e8b625ca",
   "metadata": {},
   "outputs": [
    {
     "data": {
      "text/plain": [
       "[0.1305595338344574,\n",
       " 0.3228120505809784,\n",
       " 0.49784791469573975,\n",
       " 0.5552367568016052,\n",
       " 0.6413199305534363,\n",
       " 0.7087517976760864,\n",
       " 0.7302725911140442,\n",
       " 0.7489239573478699,\n",
       " 0.8034433126449585,\n",
       " 0.8249641060829163]"
      ]
     },
     "execution_count": 30,
     "metadata": {},
     "output_type": "execute_result"
    }
   ],
   "source": [
    " training_history.history['accuracy']"
   ]
  },
  {
   "cell_type": "code",
   "execution_count": 31,
   "id": "d51d99ce",
   "metadata": {},
   "outputs": [
    {
     "data": {
      "text/plain": [
       "['Actinic keratosis',\n",
       " 'Atopic Dermatitis',\n",
       " 'Benign keratosis',\n",
       " 'Dermatofibroma',\n",
       " 'Melanocytic nevus',\n",
       " 'Melanoma',\n",
       " 'Squamous cell carcinoma',\n",
       " 'Tinea Ringworm Candidiasis',\n",
       " 'Vascular lesion']"
      ]
     },
     "execution_count": 31,
     "metadata": {},
     "output_type": "execute_result"
    }
   ],
   "source": [
    "class_name = validation_set.class_names\n",
    "class_name"
   ]
  },
  {
   "cell_type": "code",
   "execution_count": 32,
   "id": "78c14fd9",
   "metadata": {},
   "outputs": [
    {
     "name": "stdout",
     "output_type": "stream",
     "text": [
      "Found 181 files belonging to 9 classes.\n"
     ]
    }
   ],
   "source": [
    "test_set = tf.keras.utils.image_dataset_from_directory(\n",
    "    'val',\n",
    "    labels=\"inferred\",\n",
    "    label_mode=\"categorical\",\n",
    "    class_names=None,\n",
    "    color_mode=\"rgb\",\n",
    "    batch_size=32,\n",
    "    image_size=(256, 256),\n",
    "    shuffle=False,\n",
    "    seed=None,\n",
    "    validation_split=None,\n",
    "    subset=None,\n",
    "    interpolation=\"bilinear\",\n",
    "    follow_links=False,\n",
    "    crop_to_aspect_ratio=False\n",
    ")"
   ]
  },
  {
   "cell_type": "code",
   "execution_count": 33,
   "id": "1d31a6e1",
   "metadata": {},
   "outputs": [
    {
     "name": "stdout",
     "output_type": "stream",
     "text": [
      "Found 181 files belonging to 9 classes.\n"
     ]
    }
   ],
   "source": [
    "test_set = tf.keras.utils.image_dataset_from_directory(\n",
    "    'val',\n",
    "    labels=\"inferred\",\n",
    "    label_mode=\"categorical\",\n",
    "    class_names=None,\n",
    "    color_mode=\"rgb\",\n",
    "    batch_size=32,\n",
    "    image_size=(256, 256),\n",
    "    shuffle=False,\n",
    "    seed=None,\n",
    "    validation_split=None,\n",
    "    subset=None,\n",
    "    interpolation=\"bilinear\",\n",
    "    follow_links=False,\n",
    "    crop_to_aspect_ratio=False\n",
    ")"
   ]
  },
  {
   "cell_type": "code",
   "execution_count": 34,
   "id": "3eee6da8",
   "metadata": {},
   "outputs": [
    {
     "name": "stdout",
     "output_type": "stream",
     "text": [
      "6/6 [==============================] - 35s 6s/step\n"
     ]
    },
    {
     "data": {
      "text/plain": [
       "(array([[3.14500988e-01, 7.16165872e-03, 1.63136110e-01, ...,\n",
       "         2.06504345e-01, 8.22695568e-02, 1.13602250e-03],\n",
       "        [4.19840783e-01, 7.38447765e-03, 2.98680849e-02, ...,\n",
       "         3.76315206e-01, 1.01247370e-01, 1.66042871e-03],\n",
       "        [6.02876805e-02, 4.21510590e-03, 2.12741341e-03, ...,\n",
       "         1.00641675e-01, 1.12389907e-01, 6.00415748e-03],\n",
       "        ...,\n",
       "        [4.62333383e-12, 1.00059593e-10, 1.22771949e-11, ...,\n",
       "         2.05645723e-09, 1.90290119e-14, 1.00000000e+00],\n",
       "        [3.56096237e-08, 1.58370233e-06, 1.21559337e-04, ...,\n",
       "         7.90642298e-06, 4.15697166e-09, 7.13360429e-01],\n",
       "        [3.25202802e-03, 6.26173511e-04, 1.56968541e-04, ...,\n",
       "         2.04025917e-02, 2.89525869e-05, 9.64635491e-01]], dtype=float32),\n",
       " (181, 9))"
      ]
     },
     "execution_count": 34,
     "metadata": {},
     "output_type": "execute_result"
    }
   ],
   "source": [
    "y_pred = model.predict(test_set)\n",
    "y_pred,y_pred.shape"
   ]
  },
  {
   "cell_type": "code",
   "execution_count": 35,
   "id": "e81e33e8",
   "metadata": {},
   "outputs": [],
   "source": [
    "predicted_categories = tf.argmax(y_pred,axis=1)"
   ]
  },
  {
   "cell_type": "code",
   "execution_count": 36,
   "id": "1be50dc6",
   "metadata": {},
   "outputs": [
    {
     "data": {
      "text/plain": [
       "<tf.Tensor: shape=(181,), dtype=int64, numpy=\n",
       "array([0, 0, 3, 6, 0, 6, 6, 6, 3, 6, 7, 0, 3, 3, 3, 0, 0, 0, 0, 0, 1, 1,\n",
       "       1, 1, 1, 1, 1, 1, 1, 1, 1, 1, 1, 1, 7, 1, 3, 1, 1, 1, 1, 2, 2, 2,\n",
       "       2, 2, 2, 2, 2, 2, 2, 2, 2, 2, 2, 7, 2, 5, 2, 5, 2, 3, 0, 0, 0, 3,\n",
       "       0, 3, 0, 5, 0, 0, 6, 1, 5, 8, 3, 6, 7, 8, 0, 4, 4, 4, 4, 4, 4, 6,\n",
       "       4, 4, 4, 5, 4, 4, 4, 4, 5, 4, 4, 4, 5, 5, 5, 4, 5, 5, 4, 5, 6, 4,\n",
       "       4, 5, 5, 5, 5, 7, 7, 7, 7, 7, 5, 0, 6, 6, 6, 0, 3, 6, 6, 4, 0, 0,\n",
       "       6, 6, 6, 0, 6, 5, 0, 6, 0, 7, 6, 7, 7, 7, 7, 7, 7, 7, 7, 7, 7, 7,\n",
       "       7, 7, 7, 7, 7, 7, 7, 0, 8, 8, 8, 8, 0, 8, 0, 8, 8, 4, 8, 8, 8, 8,\n",
       "       8, 8, 8, 8, 8], dtype=int64)>"
      ]
     },
     "execution_count": 36,
     "metadata": {},
     "output_type": "execute_result"
    }
   ],
   "source": [
    "predicted_categories"
   ]
  },
  {
   "cell_type": "code",
   "execution_count": 37,
   "id": "79165d39",
   "metadata": {},
   "outputs": [
    {
     "data": {
      "text/plain": [
       "<tf.Tensor: shape=(181, 9), dtype=float32, numpy=\n",
       "array([[1., 0., 0., ..., 0., 0., 0.],\n",
       "       [1., 0., 0., ..., 0., 0., 0.],\n",
       "       [1., 0., 0., ..., 0., 0., 0.],\n",
       "       ...,\n",
       "       [0., 0., 0., ..., 0., 0., 1.],\n",
       "       [0., 0., 0., ..., 0., 0., 1.],\n",
       "       [0., 0., 0., ..., 0., 0., 1.]], dtype=float32)>"
      ]
     },
     "execution_count": 37,
     "metadata": {},
     "output_type": "execute_result"
    }
   ],
   "source": [
    "true_categories = tf.concat([y for x,y in test_set],axis=0)\n",
    "true_categories "
   ]
  },
  {
   "cell_type": "code",
   "execution_count": 38,
   "id": "781bbd1e",
   "metadata": {},
   "outputs": [
    {
     "data": {
      "text/plain": [
       "<tf.Tensor: shape=(181,), dtype=int64, numpy=\n",
       "array([0, 0, 0, 0, 0, 0, 0, 0, 0, 0, 0, 0, 0, 0, 0, 0, 0, 0, 0, 0, 1, 1,\n",
       "       1, 1, 1, 1, 1, 1, 1, 1, 1, 1, 1, 1, 1, 1, 1, 1, 1, 1, 1, 2, 2, 2,\n",
       "       2, 2, 2, 2, 2, 2, 2, 2, 2, 2, 2, 2, 2, 2, 2, 2, 2, 3, 3, 3, 3, 3,\n",
       "       3, 3, 3, 3, 3, 3, 3, 3, 3, 3, 3, 3, 3, 3, 3, 4, 4, 4, 4, 4, 4, 4,\n",
       "       4, 4, 4, 4, 4, 4, 4, 4, 4, 4, 4, 4, 4, 5, 5, 5, 5, 5, 5, 5, 5, 5,\n",
       "       5, 5, 5, 5, 5, 5, 5, 5, 5, 5, 5, 6, 6, 6, 6, 6, 6, 6, 6, 6, 6, 6,\n",
       "       6, 6, 6, 6, 6, 6, 6, 6, 6, 7, 7, 7, 7, 7, 7, 7, 7, 7, 7, 7, 7, 7,\n",
       "       7, 7, 7, 7, 7, 7, 7, 8, 8, 8, 8, 8, 8, 8, 8, 8, 8, 8, 8, 8, 8, 8,\n",
       "       8, 8, 8, 8, 8], dtype=int64)>"
      ]
     },
     "execution_count": 38,
     "metadata": {},
     "output_type": "execute_result"
    }
   ],
   "source": [
    "Y_true = tf.argmax(true_categories,axis=1)\n",
    "Y_true "
   ]
  },
  {
   "cell_type": "code",
   "execution_count": 39,
   "id": "feafaa6a",
   "metadata": {},
   "outputs": [],
   "source": [
    "from sklearn.metrics import classification_report,confusion_matrix"
   ]
  },
  {
   "cell_type": "code",
   "execution_count": 40,
   "id": "022cc675",
   "metadata": {},
   "outputs": [
    {
     "name": "stdout",
     "output_type": "stream",
     "text": [
      "                            precision    recall  f1-score   support\n",
      "\n",
      "         Actinic keratosis       0.33      0.45      0.38        20\n",
      "         Atopic Dermatitis       0.95      0.90      0.93        21\n",
      "          Benign keratosis       1.00      0.85      0.92        20\n",
      "            Dermatofibroma       0.36      0.20      0.26        20\n",
      "         Melanocytic nevus       0.73      0.80      0.76        20\n",
      "                  Melanoma       0.56      0.50      0.53        20\n",
      "   Squamous cell carcinoma       0.50      0.50      0.50        20\n",
      "Tinea Ringworm Candidiasis       0.68      0.95      0.79        20\n",
      "           Vascular lesion       0.89      0.80      0.84        20\n",
      "\n",
      "                  accuracy                           0.66       181\n",
      "                 macro avg       0.67      0.66      0.66       181\n",
      "              weighted avg       0.67      0.66      0.66       181\n",
      "\n"
     ]
    }
   ],
   "source": [
    "print(classification_report(Y_true,predicted_categories,target_names=class_name))"
   ]
  },
  {
   "cell_type": "code",
   "execution_count": 41,
   "id": "13790472",
   "metadata": {},
   "outputs": [
    {
     "data": {
      "text/plain": [
       "(9, 9)"
      ]
     },
     "execution_count": 41,
     "metadata": {},
     "output_type": "execute_result"
    }
   ],
   "source": [
    "cm = confusion_matrix(Y_true,predicted_categories)\n",
    "cm.shape"
   ]
  },
  {
   "cell_type": "code",
   "execution_count": 42,
   "id": "4dcee961",
   "metadata": {},
   "outputs": [
    {
     "data": {
      "image/png": "[encoded data removed]",
      "text/plain": [
       "<Figure size 1000x1000 with 2 Axes>"
      ]
     },
     "metadata": {},
     "output_type": "display_data"
    }
   ],
   "source": [
    "plt.figure(figsize=(10,10))\n",
    "sns.heatmap(cm,annot=True)\n",
    "plt.xlabel(\"Predicted class\")\n",
    "plt.ylabel(\"Acuta class\")\n",
    "plt.show()"
   ]
  },
  {
   "cell_type": "code",
   "execution_count": 45,
   "id": "fcd88292",
   "metadata": {},
   "outputs": [
    {
     "data": {
      "image/png": "[encoded data removed]",
      "text/plain": [
       "<Figure size 1200x500 with 2 Axes>"
      ]
     },
     "metadata": {},
     "output_type": "display_data"
    }
   ],
   "source": [
    "# Plot Accuracy & Loss\n",
    "plt.figure(figsize=(12,5))\n",
    "plt.subplot(1,2,1)\n",
    "plt.plot(training_history.history['accuracy'], label='Train Accuracy', color='blue')\n",
    "plt.plot(training_history.history['val_accuracy'], label='Validation Accuracy', color='red')\n",
    "plt.xlabel('Epochs')\n",
    "plt.ylabel('Accuracy')\n",
    "plt.legend()\n",
    "plt.title('Training vs Validation Accuracy')\n",
    "\n",
    "plt.subplot(1,2,2)\n",
    "plt.plot(training_history.history['loss'], label='Train Loss', color='blue')\n",
    "plt.plot(training_history.history['val_loss'], label='Validation Loss', color='red')\n",
    "plt.xlabel('Epochs')\n",
    "plt.ylabel('Loss')\n",
    "plt.legend()\n",
    "plt.title('Training vs Validation Loss')\n",
    "plt.show()"
   ]
  }
 ],
 "metadata": {
  "kernelspec": {
   "display_name": "tf_env",
   "language": "python",
   "name": "python3"
  },
  "language_info": {
   "codemirror_mode": {
    "name": "ipython",
    "version": 3
   },
   "file_extension": ".py",
   "mimetype": "text/x-python",
   "name": "python",
   "nbconvert_exporter": "python",
   "pygments_lexer": "ipython3",
   "version": "3.10.13"
  }
 },
 "nbformat": 4,
 "nbformat_minor": 5
}
